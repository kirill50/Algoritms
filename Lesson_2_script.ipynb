{
 "cells": [
  {
   "cell_type": "markdown",
   "metadata": {},
   "source": [
    "### Урок 2. Масштабирование признаков. Регуляризация. Стохастический градиентный спуск."
   ]
  },
  {
   "cell_type": "code",
   "execution_count": 25,
   "metadata": {
    "colab": {},
    "colab_type": "code",
    "id": "_u5bV-OlT34p"
   },
   "outputs": [],
   "source": [
    "import numpy as np\n",
    "import matplotlib.pyplot as plt"
   ]
  },
  {
   "cell_type": "code",
   "execution_count": 26,
   "metadata": {
    "colab": {},
    "colab_type": "code",
    "id": "_n6il-AZaLuA"
   },
   "outputs": [],
   "source": [
    "X = np.array([[1, 1, 1, 1, 1, 1, 1, 1, 1, 1],\n",
    "              [1, 1, 2, 5, 3, 0, 5, 10, 1, 2],\n",
    "              [500, 700, 750, 600, 1450, 800, 1500, 2000, 450, 1000],\n",
    "              [1, 1, 2, 1, 2, 1, 3, 3, 1, 2]])"
   ]
  },
  {
   "cell_type": "code",
   "execution_count": 27,
   "metadata": {
    "colab": {},
    "colab_type": "code",
    "id": "x8yoci01ni-t"
   },
   "outputs": [],
   "source": [
    "y = [45, 55, 50, 55, 60, 35, 75, 80, 50, 60]"
   ]
  },
  {
   "cell_type": "markdown",
   "metadata": {},
   "source": [
    "Нормализация [0, 1]"
   ]
  },
  {
   "cell_type": "code",
   "execution_count": 28,
   "metadata": {
    "colab": {
     "base_uri": "https://localhost:8080/",
     "height": 34
    },
    "colab_type": "code",
    "id": "Ei5qeZO_aT6m",
    "outputId": "087819d3-202a-46c9-f87d-49e17953099c"
   },
   "outputs": [
    {
     "data": {
      "text/plain": [
       "(0, 10)"
      ]
     },
     "execution_count": 28,
     "metadata": {},
     "output_type": "execute_result"
    }
   ],
   "source": [
    "X[1].min(), X[1].max()"
   ]
  },
  {
   "cell_type": "code",
   "execution_count": 29,
   "metadata": {
    "colab": {
     "base_uri": "https://localhost:8080/",
     "height": 34
    },
    "colab_type": "code",
    "id": "L7wsW1Q7b4Ts",
    "outputId": "911044d6-32c1-475a-80cd-cbaf26d5ba32"
   },
   "outputs": [
    {
     "data": {
      "text/plain": [
       "(450, 2000)"
      ]
     },
     "execution_count": 29,
     "metadata": {},
     "output_type": "execute_result"
    }
   ],
   "source": [
    "X[2].min(), X[2].max()"
   ]
  },
  {
   "cell_type": "code",
   "execution_count": 30,
   "metadata": {
    "colab": {
     "base_uri": "https://localhost:8080/",
     "height": 121
    },
    "colab_type": "code",
    "id": "E55S9Bzob9Xa",
    "outputId": "4abf56a2-d484-4c24-8520-8ed1b58ccca8"
   },
   "outputs": [
    {
     "data": {
      "text/plain": [
       "array([[1.00e+00, 1.00e+00, 1.00e+00, 1.00e+00, 1.00e+00, 1.00e+00,\n",
       "        1.00e+00, 1.00e+00, 1.00e+00, 1.00e+00],\n",
       "       [1.00e+00, 1.00e+00, 2.00e+00, 5.00e+00, 3.00e+00, 0.00e+00,\n",
       "        5.00e+00, 1.00e+01, 1.00e+00, 2.00e+00],\n",
       "       [5.00e+02, 7.00e+02, 7.50e+02, 6.00e+02, 1.45e+03, 8.00e+02,\n",
       "        1.50e+03, 2.00e+03, 4.50e+02, 1.00e+03],\n",
       "       [1.00e+00, 1.00e+00, 2.00e+00, 1.00e+00, 2.00e+00, 1.00e+00,\n",
       "        3.00e+00, 3.00e+00, 1.00e+00, 2.00e+00]])"
      ]
     },
     "execution_count": 30,
     "metadata": {},
     "output_type": "execute_result"
    }
   ],
   "source": [
    "X_norm = X.copy()\n",
    "X_norm = X_norm.astype(np.float64)\n",
    "X_norm"
   ]
  },
  {
   "cell_type": "code",
   "execution_count": 31,
   "metadata": {
    "colab": {
     "base_uri": "https://localhost:8080/",
     "height": 121
    },
    "colab_type": "code",
    "id": "7x-6IuPOcIo0",
    "outputId": "1668fec7-37ae-4671-ad9f-f093c30a6c72"
   },
   "outputs": [
    {
     "data": {
      "text/plain": [
       "array([[1.00e+00, 1.00e+00, 1.00e+00, 1.00e+00, 1.00e+00, 1.00e+00,\n",
       "        1.00e+00, 1.00e+00, 1.00e+00, 1.00e+00],\n",
       "       [1.00e-01, 1.00e-01, 2.00e-01, 5.00e-01, 3.00e-01, 0.00e+00,\n",
       "        5.00e-01, 1.00e+00, 1.00e-01, 2.00e-01],\n",
       "       [5.00e+02, 7.00e+02, 7.50e+02, 6.00e+02, 1.45e+03, 8.00e+02,\n",
       "        1.50e+03, 2.00e+03, 4.50e+02, 1.00e+03],\n",
       "       [1.00e+00, 1.00e+00, 2.00e+00, 1.00e+00, 2.00e+00, 1.00e+00,\n",
       "        3.00e+00, 3.00e+00, 1.00e+00, 2.00e+00]])"
      ]
     },
     "execution_count": 31,
     "metadata": {},
     "output_type": "execute_result"
    }
   ],
   "source": [
    "X_norm[1] = (X[1] - X[1].min()) / (X[1].max() - X[1].min())\n",
    "X_norm"
   ]
  },
  {
   "cell_type": "code",
   "execution_count": 32,
   "metadata": {
    "colab": {
     "base_uri": "https://localhost:8080/",
     "height": 121
    },
    "colab_type": "code",
    "id": "izkMRdXFcjyK",
    "outputId": "982b8c8d-629d-4c4a-a3d5-67854cee4a4a"
   },
   "outputs": [
    {
     "data": {
      "text/plain": [
       "array([[1.        , 1.        , 1.        , 1.        , 1.        ,\n",
       "        1.        , 1.        , 1.        , 1.        , 1.        ],\n",
       "       [0.1       , 0.1       , 0.2       , 0.5       , 0.3       ,\n",
       "        0.        , 0.5       , 1.        , 0.1       , 0.2       ],\n",
       "       [0.03225806, 0.16129032, 0.19354839, 0.09677419, 0.64516129,\n",
       "        0.22580645, 0.67741935, 1.        , 0.        , 0.35483871],\n",
       "       [1.        , 1.        , 2.        , 1.        , 2.        ,\n",
       "        1.        , 3.        , 3.        , 1.        , 2.        ]])"
      ]
     },
     "execution_count": 32,
     "metadata": {},
     "output_type": "execute_result"
    }
   ],
   "source": [
    "X_norm[2] = (X[2] - X[2].min()) / (X[2].max() - X[2].min())\n",
    "X_norm"
   ]
  },
  {
   "cell_type": "markdown",
   "metadata": {
    "colab": {},
    "colab_type": "code",
    "id": "Zy63bpFfeqzu"
   },
   "source": [
    "Стандартизация"
   ]
  },
  {
   "cell_type": "code",
   "execution_count": 33,
   "metadata": {
    "colab": {
     "base_uri": "https://localhost:8080/",
     "height": 317
    },
    "colab_type": "code",
    "id": "8i9pB-3-fMD4",
    "outputId": "3cbe76f6-d000-4fcd-fe86-ffe853403356"
   },
   "outputs": [
    {
     "data": {
      "image/png": "[encoded data removed]",
      "text/plain": [
       "<Figure size 432x288 with 1 Axes>"
      ]
     },
     "metadata": {
      "needs_background": "light"
     },
     "output_type": "display_data"
    }
   ],
   "source": [
    "plt.hist(X[1])\n",
    "plt.show()"
   ]
  },
  {
   "cell_type": "code",
   "execution_count": 34,
   "metadata": {
    "colab": {
     "base_uri": "https://localhost:8080/",
     "height": 335
    },
    "colab_type": "code",
    "id": "-bnAYQqVfRX-",
    "outputId": "d59b0013-49bc-40fa-cb29-e71403e6e9e0"
   },
   "outputs": [
    {
     "data": {
      "image/png": "[encoded data removed]",
      "text/plain": [
       "<Figure size 432x288 with 1 Axes>"
      ]
     },
     "metadata": {
      "needs_background": "light"
     },
     "output_type": "display_data"
    }
   ],
   "source": [
    "plt.hist(X[2])\n",
    "plt.show()"
   ]
  },
  {
   "cell_type": "code",
   "execution_count": 35,
   "metadata": {
    "colab": {},
    "colab_type": "code",
    "id": "M57-Pzl_f_rF"
   },
   "outputs": [
    {
     "name": "stdout",
     "output_type": "stream",
     "text": [
      "3.0 2.8284271247461903\n"
     ]
    }
   ],
   "source": [
    "X_st = X.copy().astype(np.float64)\n",
    "X1_mean = X[1].mean()\n",
    "X1_std = X[1].std()\n",
    "print(X1_mean, X1_std)"
   ]
  },
  {
   "cell_type": "code",
   "execution_count": 36,
   "metadata": {
    "colab": {
     "base_uri": "https://localhost:8080/",
     "height": 294
    },
    "colab_type": "code",
    "id": "btJMY0YbgKLb",
    "outputId": "40010205-def9-4582-9a5d-e513e85b7a4e"
   },
   "outputs": [
    {
     "data": {
      "text/plain": [
       "array([[ 1.00000000e+00,  1.00000000e+00,  1.00000000e+00,\n",
       "         1.00000000e+00,  1.00000000e+00,  1.00000000e+00,\n",
       "         1.00000000e+00,  1.00000000e+00,  1.00000000e+00,\n",
       "         1.00000000e+00],\n",
       "       [-7.07106781e-01, -7.07106781e-01, -3.53553391e-01,\n",
       "         7.07106781e-01,  0.00000000e+00, -1.06066017e+00,\n",
       "         7.07106781e-01,  2.47487373e+00, -7.07106781e-01,\n",
       "        -3.53553391e-01],\n",
       "       [ 5.00000000e+02,  7.00000000e+02,  7.50000000e+02,\n",
       "         6.00000000e+02,  1.45000000e+03,  8.00000000e+02,\n",
       "         1.50000000e+03,  2.00000000e+03,  4.50000000e+02,\n",
       "         1.00000000e+03],\n",
       "       [ 1.00000000e+00,  1.00000000e+00,  2.00000000e+00,\n",
       "         1.00000000e+00,  2.00000000e+00,  1.00000000e+00,\n",
       "         3.00000000e+00,  3.00000000e+00,  1.00000000e+00,\n",
       "         2.00000000e+00]])"
      ]
     },
     "execution_count": 36,
     "metadata": {},
     "output_type": "execute_result"
    }
   ],
   "source": [
    "X_st[1] = (X[1] - X1_mean) / X1_std\n",
    "X_st"
   ]
  },
  {
   "cell_type": "code",
   "execution_count": 37,
   "metadata": {
    "colab": {
     "base_uri": "https://localhost:8080/",
     "height": 352
    },
    "colab_type": "code",
    "id": "-Y1tzWGCgYjA",
    "outputId": "89dc21fe-180f-4e68-f30f-1cf276c4f154"
   },
   "outputs": [
    {
     "data": {
      "image/png": "[encoded data removed]",
      "text/plain": [
       "<Figure size 432x288 with 1 Axes>"
      ]
     },
     "metadata": {
      "needs_background": "light"
     },
     "output_type": "display_data"
    }
   ],
   "source": [
    "plt.hist(X_st[1])\n",
    "plt.show()"
   ]
  },
  {
   "cell_type": "code",
   "execution_count": 38,
   "metadata": {
    "colab": {},
    "colab_type": "code",
    "id": "ZlJUBOyzgkJV"
   },
   "outputs": [],
   "source": [
    "def calc_std_fit(x):\n",
    "    res = (x - x.mean()) / x.std()\n",
    "    return res"
   ]
  },
  {
   "cell_type": "code",
   "execution_count": 39,
   "metadata": {
    "colab": {},
    "colab_type": "code",
    "id": "6PlDlFY0hGZA"
   },
   "outputs": [],
   "source": [
    "X_st[2] = calc_std_fit(X[2])"
   ]
  },
  {
   "cell_type": "code",
   "execution_count": 40,
   "metadata": {
    "colab": {
     "base_uri": "https://localhost:8080/",
     "height": 155
    },
    "colab_type": "code",
    "id": "LOKhmhJjt9TR",
    "outputId": "2b131d78-9066-462b-dfa9-778758f3d363"
   },
   "outputs": [
    {
     "data": {
      "text/plain": [
       "array([[ 1.        ,  1.        ,  1.        ,  1.        ,  1.        ,\n",
       "         1.        ,  1.        ,  1.        ,  1.        ,  1.        ],\n",
       "       [-0.70710678, -0.70710678, -0.35355339,  0.70710678,  0.        ,\n",
       "        -1.06066017,  0.70710678,  2.47487373, -0.70710678, -0.35355339],\n",
       "       [-0.97958969, -0.56713087, -0.46401617, -0.77336028,  0.97958969,\n",
       "        -0.36090146,  1.08270439,  2.11385144, -1.08270439,  0.05155735],\n",
       "       [-0.89625816, -0.89625816,  0.38411064, -0.89625816,  0.38411064,\n",
       "        -0.89625816,  1.66447944,  1.66447944, -0.89625816,  0.38411064]])"
      ]
     },
     "execution_count": 40,
     "metadata": {},
     "output_type": "execute_result"
    }
   ],
   "source": [
    "X_st[3] = calc_std_fit(X[3])\n",
    "X_st"
   ]
  },
  {
   "cell_type": "markdown",
   "metadata": {
    "colab": {},
    "colab_type": "code",
    "id": "UdGy9tjVhZol"
   },
   "source": [
    "SGD (Stochastic gradient descent)"
   ]
  },
  {
   "cell_type": "code",
   "execution_count": 41,
   "metadata": {
    "colab": {},
    "colab_type": "code",
    "id": "VDpN7UxYnrcS"
   },
   "outputs": [],
   "source": [
    "def calc_mse(y, y_pred):\n",
    "    err = np.mean((y - y_pred)**2)\n",
    "    return err"
   ]
  },
  {
   "cell_type": "code",
   "execution_count": 42,
   "metadata": {
    "colab": {},
    "colab_type": "code",
    "id": "SgEyis2zlJeb"
   },
   "outputs": [],
   "source": [
    "def eval_model(X, y, iterations, alpha=1e-4):\n",
    "    W = np.random.randn(X.shape[0])\n",
    "    n = X.shape[1]\n",
    "    for i in range(1, iterations+1):\n",
    "        y_pred = np.dot(W, X)\n",
    "        err = calc_mse(y, y_pred)\n",
    "        W -= (alpha * (1/n * 2 * np.dot((y_pred - y), X.T)))\n",
    "        if i % (iterations / 10) == 0:\n",
    "            print(i, W, err)\n",
    "    return W"
   ]
  },
  {
   "cell_type": "code",
   "execution_count": 43,
   "metadata": {
    "colab": {
     "base_uri": "https://localhost:8080/",
     "height": 207
    },
    "colab_type": "code",
    "id": "4nsYMAGjmFlB",
    "outputId": "8959a8af-3d27-42a6-afae-5db46c794fe1"
   },
   "outputs": [
    {
     "name": "stdout",
     "output_type": "stream",
     "text": [
      "100 [48.94473361  5.13572063  3.03087164  4.15901061] 86.32200637688126\n",
      "200 [55.49802393  5.49175538  2.38263866  4.54287323] 27.228292327193493\n",
      "300 [56.36711838  5.71048289  1.85487927  4.87452659] 25.761444384247277\n",
      "400 [56.4823773   5.85792198  1.43425702  5.16424219] 25.458733058441155\n",
      "500 [56.49766289  5.96112109  1.09671564  5.41113665] 25.271596698456797\n",
      "600 [56.49969005  6.03587123  0.82450782  5.61831692] 25.14816013082491\n",
      "700 [56.49995889  6.09163208  0.60423802  5.79047023] 25.06635657988185\n",
      "800 [56.49999455  6.1342319   0.42557809  5.9326066 ] 25.01206423763029\n",
      "900 [56.49999928  6.16738265  0.28043529  6.04946622] 24.9760071895491\n",
      "1000 [56.4999999   6.19353679  0.16239276  6.14527522] 24.952053501238503\n"
     ]
    },
    {
     "data": {
      "text/plain": [
       "array([56.4999999 ,  6.19353679,  0.16239276,  6.14527522])"
      ]
     },
     "execution_count": 43,
     "metadata": {},
     "output_type": "execute_result"
    }
   ],
   "source": [
    "eval_model(X_st, y, iterations=1000, alpha=1e-2)"
   ]
  },
  {
   "cell_type": "code",
   "execution_count": 44,
   "metadata": {},
   "outputs": [],
   "source": [
    "def eval_sgd_model(X, y, iterations, qty_in_batch, alpha=1e-4):\n",
    "    W = np.random.randn(X.shape[0])\n",
    "    n = X.shape[1]\n",
    "    n_batch = n // qty_in_batch\n",
    "    \n",
    "    if n % qty_in_batch != 0:\n",
    "        n_batch += 1\n",
    "        \n",
    "    for i in range(1, iterations+1):\n",
    "        for b in range(n_batch):\n",
    "            start_ = qty_in_batch*b\n",
    "            end_ = qty_in_batch*(b+1)\n",
    "#             print(b, n_batch, start_, end_)\n",
    "            X_tmp = X[:, start_ : end_]\n",
    "            y_tmp = y[start_ : end_]\n",
    "\n",
    "            y_pred_tmp = np.dot(W, X_tmp)\n",
    "            err = calc_mse(y_tmp, y_pred_tmp)\n",
    "\n",
    "            W -= (alpha * (1/n * 2 * np.dot((y_pred_tmp - y_tmp), X_tmp.T)))\n",
    "        \n",
    "        if i % (iterations / 10) == 0:\n",
    "            print(i, W, err)\n",
    "    return W"
   ]
  },
  {
   "cell_type": "code",
   "execution_count": 45,
   "metadata": {
    "colab": {
     "base_uri": "https://localhost:8080/",
     "height": 207
    },
    "colab_type": "code",
    "id": "2aXap4Vsm3GV",
    "outputId": "8b666b76-9d01-4b6d-813c-f1d3f5901f5f"
   },
   "outputs": [
    {
     "name": "stdout",
     "output_type": "stream",
     "text": [
      "500 [56.50796866  5.93826271  0.96428172  5.58181373] 12.92959647866946\n",
      "1000 [56.51048939  6.21083294  0.10308345  6.20314214] 11.903266484562565\n",
      "1500 [56.51057202  6.27774993 -0.19688156  6.44632961] 11.510394003902668\n",
      "2000 [56.5106029   6.3002277  -0.3042866   6.53482072] 11.368623775549981\n",
      "2500 [56.51061407  6.30823213 -0.34289848  6.56670593] 11.317733786477977\n",
      "3000 [56.51061809  6.31110744 -0.35678732  6.5781789 ] 11.299449297618064\n",
      "3500 [56.51061954  6.31214159 -0.36178359  6.5823063 ] 11.292875014376527\n",
      "4000 [56.51062006  6.3125136  -0.36358094  6.58379109] 11.290510448598909\n",
      "4500 [56.51062024  6.31264743 -0.36422752  6.58432522] 11.289659884141862\n",
      "5000 [56.51062031  6.31269557 -0.36446011  6.58451737] 11.289353911527972\n"
     ]
    },
    {
     "data": {
      "text/plain": [
       "array([56.51062031,  6.31269557, -0.36446011,  6.58451737])"
      ]
     },
     "execution_count": 45,
     "metadata": {},
     "output_type": "execute_result"
    }
   ],
   "source": [
    "eval_sgd_model(X_st, y, iterations=5000, qty_in_batch=4, alpha=1e-2)"
   ]
  },
  {
   "cell_type": "markdown",
   "metadata": {
    "colab": {},
    "colab_type": "code",
    "id": "DYTxT_6OrZpe"
   },
   "source": [
    "L1 регуляризация"
   ]
  },
  {
   "cell_type": "raw",
   "metadata": {
    "colab": {},
    "colab_type": "code",
    "id": "Ojkn7xKrsyiw"
   },
   "source": [
    "f(x, W) + (lambda_/2) * np.sum(np.abs(W))"
   ]
  },
  {
   "cell_type": "markdown",
   "metadata": {
    "colab": {},
    "colab_type": "code",
    "id": "j38vId7Hvtg0"
   },
   "source": [
    "L2 регуляризация"
   ]
  },
  {
   "cell_type": "raw",
   "metadata": {
    "colab": {},
    "colab_type": "code",
    "id": "KO5BtZ7svv4k"
   },
   "source": [
    "f(x, W) + (lambda_/2) * np.sum(W**2)"
   ]
  },
  {
   "cell_type": "code",
   "execution_count": 101,
   "metadata": {
    "colab": {},
    "colab_type": "code",
    "id": "7AVoe1Mswjni"
   },
   "outputs": [],
   "source": [
    "def eval_model_reg2(X, y, iterations, alpha=1e-4, lambda_=1e-8):\n",
    "    lamW_list = []\n",
    "    W_list = []\n",
    "    np.random.seed(42)\n",
    "    W = np.random.randn(X.shape[0])\n",
    "    n = X.shape[1]\n",
    "    for i in range(1, iterations+1):\n",
    "        y_pred = np.dot(W, X)\n",
    "        err = calc_mse(y, y_pred)\n",
    "        W -= alpha * (1/n * 2 * np.dot((y_pred - y), X.T) + lambda_ * W)\n",
    "        if i % (iterations / 10) == 0:\n",
    "            print(i, W, err, np.sum(lambda_*W)) \n",
    "            lamW_list.append(np.sum(lambda_*W)) #это нужно для задания №1 дз\n",
    "            W_list.append(np.sum(W))            #это нужно для задания №1 дз\n",
    "    return W, lamW_list, W_list"
   ]
  },
  {
   "cell_type": "code",
   "execution_count": 102,
   "metadata": {
    "colab": {
     "base_uri": "https://localhost:8080/",
     "height": 207
    },
    "colab_type": "code",
    "id": "vLJL6j8Lw6OA",
    "outputId": "dac9ef42-5966-4404-9346-aeb18cca83c6"
   },
   "outputs": [
    {
     "name": "stdout",
     "output_type": "stream",
     "text": [
      "500 [56.49487895  5.89947315  1.04054601  5.5270874 ] 25.23755832331096 0.006896198551633955\n",
      "1000 [56.49717505  6.19501568  0.13564839  6.17098435] 24.947089650389493 0.006899882346684439\n",
      "1500 [56.49717514  6.26565597 -0.17868956  6.42516923] 24.910200887020064 0.006900931078058407\n",
      "2000 [56.49717514  6.28924463 -0.29120292  6.51776763] 24.905377672807827 0.006901298448073416\n",
      "2500 [56.49717514  6.29763759 -0.33165155  6.55113988] 24.904735047224676 0.00690143010627017\n",
      "3000 [56.49717514  6.30065228 -0.3462019   6.56314895] 24.904645262343745 0.006901477445845207\n",
      "3500 [56.49717514  6.3017366  -0.35143648  6.56746949] 24.904631263168568 0.0069014944754638395\n",
      "4000 [56.49717514  6.30212668 -0.35331967  6.56902387] 24.904628595590758 0.006901500601993157\n",
      "4500 [56.49717514  6.30226702 -0.35399717  6.56958307] 24.904627942486606 0.006901502806077636\n",
      "5000 [56.49717514  6.30231751 -0.35424091  6.56978425] 24.904627747206018 0.0069015035990216845\n"
     ]
    }
   ],
   "source": [
    "W = eval_model_reg2(X_st, y, iterations=5000, alpha=1e-2, lambda_=1e-4)"
   ]
  },
  {
   "cell_type": "code",
   "execution_count": 103,
   "metadata": {
    "colab": {
     "base_uri": "https://localhost:8080/",
     "height": 207
    },
    "colab_type": "code",
    "id": "4nsYMAGjmFlB",
    "outputId": "8959a8af-3d27-42a6-afae-5db46c794fe1"
   },
   "outputs": [
    {
     "name": "stdout",
     "output_type": "stream",
     "text": [
      "500 [56.49767254  5.83477719  1.36781865  5.25424451] 25.413829625514786\n",
      "1000 [56.4999999   6.17124081  0.25269258  6.07416416] 24.969784391475397\n",
      "1500 [56.5         6.2575128  -0.13774522  6.39128671] 24.913059475565493\n",
      "2000 [56.5         6.28678323 -0.27772011  6.50655795] 24.905712417850083\n",
      "2500 [56.5         6.29722767 -0.32807425  6.54810646] 24.904760553791704\n",
      "3000 [56.5         6.30098239 -0.34619733  6.56306445] 24.904637232271696\n",
      "3500 [56.5         6.30233363 -0.3527205   6.5684486 ] 24.904621254991206\n",
      "4000 [56.5         6.30281999 -0.35506846  6.57038658] 24.904619185007867\n",
      "4500 [56.5         6.30299505 -0.35591359  6.57108415] 24.904618916825108\n",
      "5000 [56.5         6.30305806 -0.35621778  6.57133523] 24.90461888207993\n"
     ]
    },
    {
     "data": {
      "text/plain": [
       "array([56.5       ,  6.30305806, -0.35621778,  6.57133523])"
      ]
     },
     "execution_count": 103,
     "metadata": {},
     "output_type": "execute_result"
    }
   ],
   "source": [
    "eval_model(X_st, y, iterations=5000, alpha=1e-2)"
   ]
  },
  {
   "cell_type": "markdown",
   "metadata": {},
   "source": [
    "**Домашнее задание**"
   ]
  },
  {
   "cell_type": "markdown",
   "metadata": {},
   "source": [
    "**1.Постройте график зависимости весов всех признаков от lambda в L2-регуляризации (на данных из урока).**"
   ]
  },
  {
   "cell_type": "code",
   "execution_count": 111,
   "metadata": {},
   "outputs": [
    {
     "name": "stdout",
     "output_type": "stream",
     "text": [
      "500 [56.49487895  5.89947315  1.04054601  5.5270874 ] 25.23755832331096 0.006896198551633955\n",
      "1000 [56.49717505  6.19501568  0.13564839  6.17098435] 24.947089650389493 0.006899882346684439\n",
      "1500 [56.49717514  6.26565597 -0.17868956  6.42516923] 24.910200887020064 0.006900931078058407\n",
      "2000 [56.49717514  6.28924463 -0.29120292  6.51776763] 24.905377672807827 0.006901298448073416\n",
      "2500 [56.49717514  6.29763759 -0.33165155  6.55113988] 24.904735047224676 0.00690143010627017\n",
      "3000 [56.49717514  6.30065228 -0.3462019   6.56314895] 24.904645262343745 0.006901477445845207\n",
      "3500 [56.49717514  6.3017366  -0.35143648  6.56746949] 24.904631263168568 0.0069014944754638395\n",
      "4000 [56.49717514  6.30212668 -0.35331967  6.56902387] 24.904628595590758 0.006901500601993157\n",
      "4500 [56.49717514  6.30226702 -0.35399717  6.56958307] 24.904627942486606 0.006901502806077636\n",
      "5000 [56.49717514  6.30231751 -0.35424091  6.56978425] 24.904627747206018 0.0069015035990216845\n"
     ]
    },
    {
     "data": {
      "text/plain": [
       "Text(0.5, 0, 'вклад lambda * W')"
      ]
     },
     "execution_count": 111,
     "metadata": {},
     "output_type": "execute_result"
    },
    {
     "data": {
      "image/png": "[encoded data removed]",
      "text/plain": [
       "<Figure size 432x288 with 1 Axes>"
      ]
     },
     "metadata": {
      "needs_background": "light"
     },
     "output_type": "display_data"
    }
   ],
   "source": [
    "visual = eval_model_reg2(X_st, y, iterations=5000, alpha=1e-2, lambda_=1e-4)  #p.s: отредактировал функцию eval_model_reg2\n",
    "plt.plot(visual[1], visual[2])\n",
    "plt.title('Зависимость весов всех признаков от lambda',fontweight='bold')\n",
    "plt.ylabel('Сумма весов W')\n",
    "plt.xlabel('вклад lambda * W')"
   ]
  },
  {
   "cell_type": "markdown",
   "metadata": {},
   "source": [
    "**2.Можно ли к одному и тому же признаку применить сразу и нормализацию, и стандартизацию?**"
   ]
  },
  {
   "cell_type": "markdown",
   "metadata": {},
   "source": [
    "ответ нет. Потому что по факту мы получим что то одно. То естьнормализация это данные представленные в виде от [0 до 1],\n",
    "а стандартизация это данные с 0 в середине и отклонением +-1. Если стандартизировать нормализованные данные, то в итоге мы получим просто нормализацию и наоборот"
   ]
  },
  {
   "cell_type": "markdown",
   "metadata": {},
   "source": [
    "**3.Напишите функцию наподобие eval_model_reg2, но для применения L1-регуляризации.**"
   ]
  },
  {
   "cell_type": "raw",
   "metadata": {},
   "source": [
    "L1 регуляризация: f(x, W) + (lambda_/2) * np.sum(np.abs(W))"
   ]
  },
  {
   "cell_type": "raw",
   "metadata": {},
   "source": [
    "производная от (lambda_/2) * np.abs(W) = lambda_ * W / np.abs(W)"
   ]
  },
  {
   "cell_type": "code",
   "execution_count": 121,
   "metadata": {},
   "outputs": [],
   "source": [
    "def eval_model_reg1(X, y, iterations, alpha=1e-4, lambda_=1e-8):\n",
    "    lamW_list1 = []\n",
    "    W_list1 = []\n",
    "    np.random.seed(42)\n",
    "    W = np.random.randn(X.shape[0])\n",
    "    n = X.shape[1]\n",
    "    for i in range(1, iterations+1):\n",
    "        y_pred = np.dot(W, X)\n",
    "        err = calc_mse(y, y_pred)\n",
    "        W -= alpha * (1/n * 2 * np.dot((y_pred - y), X.T) + lambda_ * W / np.abs(W))\n",
    "        if i % (iterations / 10) == 0:\n",
    "            print(i, W, err, np.sum(W / np.abs(W))) \n",
    "            lamW_list1.append(np.sum(W / np.abs(W))) #это нужно для задания №1 дз\n",
    "            W_list1.append(np.sum(W))            #это нужно для задания №1 дз\n",
    "    return W, lamW_list1, W_list1"
   ]
  },
  {
   "cell_type": "code",
   "execution_count": 122,
   "metadata": {},
   "outputs": [
    {
     "name": "stdout",
     "output_type": "stream",
     "text": [
      "500 [56.49765252  5.89983016  1.03995035  5.52753399] 25.23723048428871 0.006896496702099572\n",
      "1000 [56.49994991  6.19557479  0.13437972  6.1719267 ] 24.946863925110584 0.006900183111133074\n",
      "1500 [56.49995     6.26619417 -0.18003166  6.42624591] 24.910108007836477 0.00690123584221797\n",
      "2000 [56.49995     6.28977817 -0.29255956  6.51886362] 24.905338328495585 0.006901603223313862\n",
      "2500 [56.49995     6.29817619 -0.33303449  6.55225795] 24.90471511007812 0.006901734965253085\n",
      "3000 [56.49995     6.30119434 -0.34760164  6.56428089] 24.904632468343546 0.006901782359386391\n",
      "3500 [56.49995     6.30228045 -0.35284488  6.5686086 ] 24.904621077947176 0.0069017994172119075\n",
      "4000 [56.49995     6.30267138 -0.35473214  6.57016633] 24.904619356208052 0.0069018055569660995\n",
      "4500 [56.49995     6.30281209 -0.35541145  6.57072702] 24.90461904458914 0.006901807766915423\n",
      "5000 [56.49995     6.30286274 -0.35565596  6.57092884] 24.904618972342195 0.0069018085623678595\n"
     ]
    }
   ],
   "source": [
    "W1 = eval_model_reg2(X_st, y, iterations=5000, alpha=1e-2, lambda_=1e-4)"
   ]
  },
  {
   "cell_type": "code",
   "execution_count": 124,
   "metadata": {},
   "outputs": [
    {
     "name": "stdout",
     "output_type": "stream",
     "text": [
      "500 [56.49765252  5.89983016  1.03995035  5.52753399] 25.23723048428871 4.0\n",
      "1000 [56.49994991  6.19557479  0.13437972  6.1719267 ] 24.946863925110584 4.0\n",
      "1500 [56.49995     6.26619417 -0.18003166  6.42624591] 24.910108007836477 2.0\n",
      "2000 [56.49995     6.28977817 -0.29255956  6.51886362] 24.905338328495585 2.0\n",
      "2500 [56.49995     6.29817619 -0.33303449  6.55225795] 24.90471511007812 2.0\n",
      "3000 [56.49995     6.30119434 -0.34760164  6.56428089] 24.904632468343546 2.0\n",
      "3500 [56.49995     6.30228045 -0.35284488  6.5686086 ] 24.904621077947176 2.0\n",
      "4000 [56.49995     6.30267138 -0.35473214  6.57016633] 24.904619356208052 2.0\n",
      "4500 [56.49995     6.30281209 -0.35541145  6.57072702] 24.90461904458914 2.0\n",
      "5000 [56.49995     6.30286274 -0.35565596  6.57092884] 24.904618972342195 2.0\n"
     ]
    },
    {
     "data": {
      "text/plain": [
       "Text(0.5, 0, 'вклад W / np.abs(W)')"
      ]
     },
     "execution_count": 124,
     "metadata": {},
     "output_type": "execute_result"
    },
    {
     "data": {
      "image/png": "[encoded data removed]",
      "text/plain": [
       "<Figure size 432x288 with 1 Axes>"
      ]
     },
     "metadata": {
      "needs_background": "light"
     },
     "output_type": "display_data"
    }
   ],
   "source": [
    "visual1 = eval_model_reg1(X_st, y, iterations=5000, alpha=1e-2, lambda_=1e-4)  #p.s: отредактировал функцию eval_model_reg2\n",
    "plt.plot(visual1[1], visual1[2])\n",
    "plt.title('Зависимость весов всех признаков от lambda',fontweight='bold')\n",
    "plt.ylabel('Сумма весов W')\n",
    "plt.xlabel('вклад W / np.abs(W)')"
   ]
  },
  {
   "cell_type": "markdown",
   "metadata": {},
   "source": [
    "## Д/з"
   ]
  },
  {
   "cell_type": "markdown",
   "metadata": {},
   "source": [
    "* Постройте график зависимости весов всех признаков от lambda в L2-регуляризации (на данных из урока)."
   ]
  },
  {
   "cell_type": "markdown",
   "metadata": {},
   "source": [
    "* Можно ли к одному и тому же признаку применить сразу и нормализацию, и стандартизацию?"
   ]
  },
  {
   "cell_type": "markdown",
   "metadata": {},
   "source": [
    "* Напишите функцию наподобие eval_model_reg2, но для применения L1-регуляризации."
   ]
  },
  {
   "cell_type": "code",
   "execution_count": null,
   "metadata": {},
   "outputs": [],
   "source": []
  }
 ],
 "metadata": {
  "colab": {
   "collapsed_sections": [],
   "name": "Lesson2.ipynb",
   "provenance": []
  },
  "kernelspec": {
   "display_name": "Python 3",
   "language": "python",
   "name": "python3"
  },
  "language_info": {
   "codemirror_mode": {
    "name": "ipython",
    "version": 3
   },
   "file_extension": ".py",
   "mimetype": "text/x-python",
   "name": "python",
   "nbconvert_exporter": "python",
   "pygments_lexer": "ipython3",
   "version": "3.7.4"
  }
 },
 "nbformat": 4,
 "nbformat_minor": 1
}
